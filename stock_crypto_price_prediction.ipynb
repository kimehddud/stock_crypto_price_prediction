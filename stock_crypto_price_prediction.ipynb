{
  "nbformat": 4,
  "nbformat_minor": 0,
  "metadata": {
    "colab": {
      "name": "stock_crypto_price_prediction.ipynb",
      "provenance": [],
      "collapsed_sections": []
    },
    "kernelspec": {
      "name": "python3",
      "display_name": "Python 3"
    },
    "language_info": {
      "name": "python"
    }
  },
  "cells": [
    {
      "cell_type": "code",
      "execution_count": 1,
      "metadata": {
        "colab": {
          "base_uri": "https://localhost:8080/"
        },
        "id": "Zjy7ayNPhxfC",
        "outputId": "e85af2e5-8a09-44b8-eaac-1b2cce80e5c8"
      },
      "outputs": [
        {
          "output_type": "stream",
          "name": "stdout",
          "text": [
            "Collecting pyupbit\n",
            "  Downloading pyupbit-0.2.26-py3-none-any.whl (23 kB)\n",
            "Collecting websockets==9.1\n",
            "  Downloading websockets-9.1-cp37-cp37m-manylinux2010_x86_64.whl (103 kB)\n",
            "\u001b[K     |████████████████████████████████| 103 kB 7.1 MB/s \n",
            "\u001b[?25hCollecting pyjwt>=2.0.0\n",
            "  Downloading PyJWT-2.3.0-py3-none-any.whl (16 kB)\n",
            "Requirement already satisfied: pandas in /usr/local/lib/python3.7/dist-packages (from pyupbit) (1.3.5)\n",
            "Requirement already satisfied: requests in /usr/local/lib/python3.7/dist-packages (from pyupbit) (2.23.0)\n",
            "Requirement already satisfied: python-dateutil>=2.7.3 in /usr/local/lib/python3.7/dist-packages (from pandas->pyupbit) (2.8.2)\n",
            "Requirement already satisfied: numpy>=1.17.3 in /usr/local/lib/python3.7/dist-packages (from pandas->pyupbit) (1.21.5)\n",
            "Requirement already satisfied: pytz>=2017.3 in /usr/local/lib/python3.7/dist-packages (from pandas->pyupbit) (2018.9)\n",
            "Requirement already satisfied: six>=1.5 in /usr/local/lib/python3.7/dist-packages (from python-dateutil>=2.7.3->pandas->pyupbit) (1.15.0)\n",
            "Requirement already satisfied: certifi>=2017.4.17 in /usr/local/lib/python3.7/dist-packages (from requests->pyupbit) (2021.10.8)\n",
            "Requirement already satisfied: chardet<4,>=3.0.2 in /usr/local/lib/python3.7/dist-packages (from requests->pyupbit) (3.0.4)\n",
            "Requirement already satisfied: idna<3,>=2.5 in /usr/local/lib/python3.7/dist-packages (from requests->pyupbit) (2.10)\n",
            "Requirement already satisfied: urllib3!=1.25.0,!=1.25.1,<1.26,>=1.21.1 in /usr/local/lib/python3.7/dist-packages (from requests->pyupbit) (1.24.3)\n",
            "Installing collected packages: websockets, pyjwt, pyupbit\n",
            "Successfully installed pyjwt-2.3.0 pyupbit-0.2.26 websockets-9.1\n"
          ]
        }
      ],
      "source": [
        "!pip install pyupbit"
      ]
    },
    {
      "cell_type": "code",
      "source": [
        "import pyupbit"
      ],
      "metadata": {
        "id": "mW_bTF2Fh9Qx"
      },
      "execution_count": 3,
      "outputs": []
    },
    {
      "cell_type": "code",
      "source": [
        "df = pyupbit.get_ohlcv(\"KRW-BTC\", interval = \"minute60\")\n",
        "df"
      ],
      "metadata": {
        "colab": {
          "base_uri": "https://localhost:8080/",
          "height": 419
        },
        "id": "AxQsDmHiiFyG",
        "outputId": "cd75c4bb-aaa7-4ad4-8a93-c8d2712379db"
      },
      "execution_count": 4,
      "outputs": [
        {
          "output_type": "execute_result",
          "data": {
            "text/plain": [
              "                           open        high         low       close  \\\n",
              "2022-04-05 08:00:00  57097000.0  57297000.0  57000000.0  57055000.0   \n",
              "2022-04-05 09:00:00  57069000.0  57230000.0  56900000.0  56956000.0   \n",
              "2022-04-05 10:00:00  56956000.0  57084000.0  56850000.0  57056000.0   \n",
              "2022-04-05 11:00:00  57072000.0  57223000.0  57032000.0  57113000.0   \n",
              "2022-04-05 12:00:00  57115000.0  57200000.0  57035000.0  57054000.0   \n",
              "...                         ...         ...         ...         ...   \n",
              "2022-04-13 11:00:00  50218000.0  50548000.0  50143000.0  50447000.0   \n",
              "2022-04-13 12:00:00  50439000.0  50600000.0  50378000.0  50405000.0   \n",
              "2022-04-13 13:00:00  50406000.0  50450000.0  50160000.0  50381000.0   \n",
              "2022-04-13 14:00:00  50383000.0  50449000.0  50318000.0  50390000.0   \n",
              "2022-04-13 15:00:00  50390000.0  50445000.0  50363000.0  50370000.0   \n",
              "\n",
              "                         volume         value  \n",
              "2022-04-05 08:00:00  296.830862  1.695866e+10  \n",
              "2022-04-05 09:00:00  386.354909  2.204575e+10  \n",
              "2022-04-05 10:00:00  174.597771  9.947299e+09  \n",
              "2022-04-05 11:00:00  139.930837  7.996137e+09  \n",
              "2022-04-05 12:00:00  112.193092  6.407321e+09  \n",
              "...                         ...           ...  \n",
              "2022-04-13 11:00:00  142.954974  7.197812e+09  \n",
              "2022-04-13 12:00:00  119.655521  6.040812e+09  \n",
              "2022-04-13 13:00:00  132.905018  6.681413e+09  \n",
              "2022-04-13 14:00:00   84.196077  4.242269e+09  \n",
              "2022-04-13 15:00:00   10.985101  5.537154e+08  \n",
              "\n",
              "[200 rows x 6 columns]"
            ],
            "text/html": [
              "\n",
              "  <div id=\"df-351ff507-dcc9-4100-9752-b6faba05bf4a\">\n",
              "    <div class=\"colab-df-container\">\n",
              "      <div>\n",
              "<style scoped>\n",
              "    .dataframe tbody tr th:only-of-type {\n",
              "        vertical-align: middle;\n",
              "    }\n",
              "\n",
              "    .dataframe tbody tr th {\n",
              "        vertical-align: top;\n",
              "    }\n",
              "\n",
              "    .dataframe thead th {\n",
              "        text-align: right;\n",
              "    }\n",
              "</style>\n",
              "<table border=\"1\" class=\"dataframe\">\n",
              "  <thead>\n",
              "    <tr style=\"text-align: right;\">\n",
              "      <th></th>\n",
              "      <th>open</th>\n",
              "      <th>high</th>\n",
              "      <th>low</th>\n",
              "      <th>close</th>\n",
              "      <th>volume</th>\n",
              "      <th>value</th>\n",
              "    </tr>\n",
              "  </thead>\n",
              "  <tbody>\n",
              "    <tr>\n",
              "      <th>2022-04-05 08:00:00</th>\n",
              "      <td>57097000.0</td>\n",
              "      <td>57297000.0</td>\n",
              "      <td>57000000.0</td>\n",
              "      <td>57055000.0</td>\n",
              "      <td>296.830862</td>\n",
              "      <td>1.695866e+10</td>\n",
              "    </tr>\n",
              "    <tr>\n",
              "      <th>2022-04-05 09:00:00</th>\n",
              "      <td>57069000.0</td>\n",
              "      <td>57230000.0</td>\n",
              "      <td>56900000.0</td>\n",
              "      <td>56956000.0</td>\n",
              "      <td>386.354909</td>\n",
              "      <td>2.204575e+10</td>\n",
              "    </tr>\n",
              "    <tr>\n",
              "      <th>2022-04-05 10:00:00</th>\n",
              "      <td>56956000.0</td>\n",
              "      <td>57084000.0</td>\n",
              "      <td>56850000.0</td>\n",
              "      <td>57056000.0</td>\n",
              "      <td>174.597771</td>\n",
              "      <td>9.947299e+09</td>\n",
              "    </tr>\n",
              "    <tr>\n",
              "      <th>2022-04-05 11:00:00</th>\n",
              "      <td>57072000.0</td>\n",
              "      <td>57223000.0</td>\n",
              "      <td>57032000.0</td>\n",
              "      <td>57113000.0</td>\n",
              "      <td>139.930837</td>\n",
              "      <td>7.996137e+09</td>\n",
              "    </tr>\n",
              "    <tr>\n",
              "      <th>2022-04-05 12:00:00</th>\n",
              "      <td>57115000.0</td>\n",
              "      <td>57200000.0</td>\n",
              "      <td>57035000.0</td>\n",
              "      <td>57054000.0</td>\n",
              "      <td>112.193092</td>\n",
              "      <td>6.407321e+09</td>\n",
              "    </tr>\n",
              "    <tr>\n",
              "      <th>...</th>\n",
              "      <td>...</td>\n",
              "      <td>...</td>\n",
              "      <td>...</td>\n",
              "      <td>...</td>\n",
              "      <td>...</td>\n",
              "      <td>...</td>\n",
              "    </tr>\n",
              "    <tr>\n",
              "      <th>2022-04-13 11:00:00</th>\n",
              "      <td>50218000.0</td>\n",
              "      <td>50548000.0</td>\n",
              "      <td>50143000.0</td>\n",
              "      <td>50447000.0</td>\n",
              "      <td>142.954974</td>\n",
              "      <td>7.197812e+09</td>\n",
              "    </tr>\n",
              "    <tr>\n",
              "      <th>2022-04-13 12:00:00</th>\n",
              "      <td>50439000.0</td>\n",
              "      <td>50600000.0</td>\n",
              "      <td>50378000.0</td>\n",
              "      <td>50405000.0</td>\n",
              "      <td>119.655521</td>\n",
              "      <td>6.040812e+09</td>\n",
              "    </tr>\n",
              "    <tr>\n",
              "      <th>2022-04-13 13:00:00</th>\n",
              "      <td>50406000.0</td>\n",
              "      <td>50450000.0</td>\n",
              "      <td>50160000.0</td>\n",
              "      <td>50381000.0</td>\n",
              "      <td>132.905018</td>\n",
              "      <td>6.681413e+09</td>\n",
              "    </tr>\n",
              "    <tr>\n",
              "      <th>2022-04-13 14:00:00</th>\n",
              "      <td>50383000.0</td>\n",
              "      <td>50449000.0</td>\n",
              "      <td>50318000.0</td>\n",
              "      <td>50390000.0</td>\n",
              "      <td>84.196077</td>\n",
              "      <td>4.242269e+09</td>\n",
              "    </tr>\n",
              "    <tr>\n",
              "      <th>2022-04-13 15:00:00</th>\n",
              "      <td>50390000.0</td>\n",
              "      <td>50445000.0</td>\n",
              "      <td>50363000.0</td>\n",
              "      <td>50370000.0</td>\n",
              "      <td>10.985101</td>\n",
              "      <td>5.537154e+08</td>\n",
              "    </tr>\n",
              "  </tbody>\n",
              "</table>\n",
              "<p>200 rows × 6 columns</p>\n",
              "</div>\n",
              "      <button class=\"colab-df-convert\" onclick=\"convertToInteractive('df-351ff507-dcc9-4100-9752-b6faba05bf4a')\"\n",
              "              title=\"Convert this dataframe to an interactive table.\"\n",
              "              style=\"display:none;\">\n",
              "        \n",
              "  <svg xmlns=\"http://www.w3.org/2000/svg\" height=\"24px\"viewBox=\"0 0 24 24\"\n",
              "       width=\"24px\">\n",
              "    <path d=\"M0 0h24v24H0V0z\" fill=\"none\"/>\n",
              "    <path d=\"M18.56 5.44l.94 2.06.94-2.06 2.06-.94-2.06-.94-.94-2.06-.94 2.06-2.06.94zm-11 1L8.5 8.5l.94-2.06 2.06-.94-2.06-.94L8.5 2.5l-.94 2.06-2.06.94zm10 10l.94 2.06.94-2.06 2.06-.94-2.06-.94-.94-2.06-.94 2.06-2.06.94z\"/><path d=\"M17.41 7.96l-1.37-1.37c-.4-.4-.92-.59-1.43-.59-.52 0-1.04.2-1.43.59L10.3 9.45l-7.72 7.72c-.78.78-.78 2.05 0 2.83L4 21.41c.39.39.9.59 1.41.59.51 0 1.02-.2 1.41-.59l7.78-7.78 2.81-2.81c.8-.78.8-2.07 0-2.86zM5.41 20L4 18.59l7.72-7.72 1.47 1.35L5.41 20z\"/>\n",
              "  </svg>\n",
              "      </button>\n",
              "      \n",
              "  <style>\n",
              "    .colab-df-container {\n",
              "      display:flex;\n",
              "      flex-wrap:wrap;\n",
              "      gap: 12px;\n",
              "    }\n",
              "\n",
              "    .colab-df-convert {\n",
              "      background-color: #E8F0FE;\n",
              "      border: none;\n",
              "      border-radius: 50%;\n",
              "      cursor: pointer;\n",
              "      display: none;\n",
              "      fill: #1967D2;\n",
              "      height: 32px;\n",
              "      padding: 0 0 0 0;\n",
              "      width: 32px;\n",
              "    }\n",
              "\n",
              "    .colab-df-convert:hover {\n",
              "      background-color: #E2EBFA;\n",
              "      box-shadow: 0px 1px 2px rgba(60, 64, 67, 0.3), 0px 1px 3px 1px rgba(60, 64, 67, 0.15);\n",
              "      fill: #174EA6;\n",
              "    }\n",
              "\n",
              "    [theme=dark] .colab-df-convert {\n",
              "      background-color: #3B4455;\n",
              "      fill: #D2E3FC;\n",
              "    }\n",
              "\n",
              "    [theme=dark] .colab-df-convert:hover {\n",
              "      background-color: #434B5C;\n",
              "      box-shadow: 0px 1px 3px 1px rgba(0, 0, 0, 0.15);\n",
              "      filter: drop-shadow(0px 1px 2px rgba(0, 0, 0, 0.3));\n",
              "      fill: #FFFFFF;\n",
              "    }\n",
              "  </style>\n",
              "\n",
              "      <script>\n",
              "        const buttonEl =\n",
              "          document.querySelector('#df-351ff507-dcc9-4100-9752-b6faba05bf4a button.colab-df-convert');\n",
              "        buttonEl.style.display =\n",
              "          google.colab.kernel.accessAllowed ? 'block' : 'none';\n",
              "\n",
              "        async function convertToInteractive(key) {\n",
              "          const element = document.querySelector('#df-351ff507-dcc9-4100-9752-b6faba05bf4a');\n",
              "          const dataTable =\n",
              "            await google.colab.kernel.invokeFunction('convertToInteractive',\n",
              "                                                     [key], {});\n",
              "          if (!dataTable) return;\n",
              "\n",
              "          const docLinkHtml = 'Like what you see? Visit the ' +\n",
              "            '<a target=\"_blank\" href=https://colab.research.google.com/notebooks/data_table.ipynb>data table notebook</a>'\n",
              "            + ' to learn more about interactive tables.';\n",
              "          element.innerHTML = '';\n",
              "          dataTable['output_type'] = 'display_data';\n",
              "          await google.colab.output.renderOutput(dataTable, element);\n",
              "          const docLink = document.createElement('div');\n",
              "          docLink.innerHTML = docLinkHtml;\n",
              "          element.appendChild(docLink);\n",
              "        }\n",
              "      </script>\n",
              "    </div>\n",
              "  </div>\n",
              "  "
            ]
          },
          "metadata": {},
          "execution_count": 4
        }
      ]
    },
    {
      "cell_type": "code",
      "source": [
        "df = df.reset_index()\n",
        "df['ds'] = df['index']\n",
        "df['y'] = df['close']\n",
        "data = df[['ds','y']]\n",
        "data"
      ],
      "metadata": {
        "colab": {
          "base_uri": "https://localhost:8080/",
          "height": 419
        },
        "id": "Fp7_GSqFif1B",
        "outputId": "796666e6-28b8-4170-b58a-835d8e694934"
      },
      "execution_count": 5,
      "outputs": [
        {
          "output_type": "execute_result",
          "data": {
            "text/plain": [
              "                     ds           y\n",
              "0   2022-04-05 08:00:00  57055000.0\n",
              "1   2022-04-05 09:00:00  56956000.0\n",
              "2   2022-04-05 10:00:00  57056000.0\n",
              "3   2022-04-05 11:00:00  57113000.0\n",
              "4   2022-04-05 12:00:00  57054000.0\n",
              "..                  ...         ...\n",
              "195 2022-04-13 11:00:00  50447000.0\n",
              "196 2022-04-13 12:00:00  50405000.0\n",
              "197 2022-04-13 13:00:00  50381000.0\n",
              "198 2022-04-13 14:00:00  50390000.0\n",
              "199 2022-04-13 15:00:00  50370000.0\n",
              "\n",
              "[200 rows x 2 columns]"
            ],
            "text/html": [
              "\n",
              "  <div id=\"df-1b05d28c-3735-48e7-9240-551ca82d43d5\">\n",
              "    <div class=\"colab-df-container\">\n",
              "      <div>\n",
              "<style scoped>\n",
              "    .dataframe tbody tr th:only-of-type {\n",
              "        vertical-align: middle;\n",
              "    }\n",
              "\n",
              "    .dataframe tbody tr th {\n",
              "        vertical-align: top;\n",
              "    }\n",
              "\n",
              "    .dataframe thead th {\n",
              "        text-align: right;\n",
              "    }\n",
              "</style>\n",
              "<table border=\"1\" class=\"dataframe\">\n",
              "  <thead>\n",
              "    <tr style=\"text-align: right;\">\n",
              "      <th></th>\n",
              "      <th>ds</th>\n",
              "      <th>y</th>\n",
              "    </tr>\n",
              "  </thead>\n",
              "  <tbody>\n",
              "    <tr>\n",
              "      <th>0</th>\n",
              "      <td>2022-04-05 08:00:00</td>\n",
              "      <td>57055000.0</td>\n",
              "    </tr>\n",
              "    <tr>\n",
              "      <th>1</th>\n",
              "      <td>2022-04-05 09:00:00</td>\n",
              "      <td>56956000.0</td>\n",
              "    </tr>\n",
              "    <tr>\n",
              "      <th>2</th>\n",
              "      <td>2022-04-05 10:00:00</td>\n",
              "      <td>57056000.0</td>\n",
              "    </tr>\n",
              "    <tr>\n",
              "      <th>3</th>\n",
              "      <td>2022-04-05 11:00:00</td>\n",
              "      <td>57113000.0</td>\n",
              "    </tr>\n",
              "    <tr>\n",
              "      <th>4</th>\n",
              "      <td>2022-04-05 12:00:00</td>\n",
              "      <td>57054000.0</td>\n",
              "    </tr>\n",
              "    <tr>\n",
              "      <th>...</th>\n",
              "      <td>...</td>\n",
              "      <td>...</td>\n",
              "    </tr>\n",
              "    <tr>\n",
              "      <th>195</th>\n",
              "      <td>2022-04-13 11:00:00</td>\n",
              "      <td>50447000.0</td>\n",
              "    </tr>\n",
              "    <tr>\n",
              "      <th>196</th>\n",
              "      <td>2022-04-13 12:00:00</td>\n",
              "      <td>50405000.0</td>\n",
              "    </tr>\n",
              "    <tr>\n",
              "      <th>197</th>\n",
              "      <td>2022-04-13 13:00:00</td>\n",
              "      <td>50381000.0</td>\n",
              "    </tr>\n",
              "    <tr>\n",
              "      <th>198</th>\n",
              "      <td>2022-04-13 14:00:00</td>\n",
              "      <td>50390000.0</td>\n",
              "    </tr>\n",
              "    <tr>\n",
              "      <th>199</th>\n",
              "      <td>2022-04-13 15:00:00</td>\n",
              "      <td>50370000.0</td>\n",
              "    </tr>\n",
              "  </tbody>\n",
              "</table>\n",
              "<p>200 rows × 2 columns</p>\n",
              "</div>\n",
              "      <button class=\"colab-df-convert\" onclick=\"convertToInteractive('df-1b05d28c-3735-48e7-9240-551ca82d43d5')\"\n",
              "              title=\"Convert this dataframe to an interactive table.\"\n",
              "              style=\"display:none;\">\n",
              "        \n",
              "  <svg xmlns=\"http://www.w3.org/2000/svg\" height=\"24px\"viewBox=\"0 0 24 24\"\n",
              "       width=\"24px\">\n",
              "    <path d=\"M0 0h24v24H0V0z\" fill=\"none\"/>\n",
              "    <path d=\"M18.56 5.44l.94 2.06.94-2.06 2.06-.94-2.06-.94-.94-2.06-.94 2.06-2.06.94zm-11 1L8.5 8.5l.94-2.06 2.06-.94-2.06-.94L8.5 2.5l-.94 2.06-2.06.94zm10 10l.94 2.06.94-2.06 2.06-.94-2.06-.94-.94-2.06-.94 2.06-2.06.94z\"/><path d=\"M17.41 7.96l-1.37-1.37c-.4-.4-.92-.59-1.43-.59-.52 0-1.04.2-1.43.59L10.3 9.45l-7.72 7.72c-.78.78-.78 2.05 0 2.83L4 21.41c.39.39.9.59 1.41.59.51 0 1.02-.2 1.41-.59l7.78-7.78 2.81-2.81c.8-.78.8-2.07 0-2.86zM5.41 20L4 18.59l7.72-7.72 1.47 1.35L5.41 20z\"/>\n",
              "  </svg>\n",
              "      </button>\n",
              "      \n",
              "  <style>\n",
              "    .colab-df-container {\n",
              "      display:flex;\n",
              "      flex-wrap:wrap;\n",
              "      gap: 12px;\n",
              "    }\n",
              "\n",
              "    .colab-df-convert {\n",
              "      background-color: #E8F0FE;\n",
              "      border: none;\n",
              "      border-radius: 50%;\n",
              "      cursor: pointer;\n",
              "      display: none;\n",
              "      fill: #1967D2;\n",
              "      height: 32px;\n",
              "      padding: 0 0 0 0;\n",
              "      width: 32px;\n",
              "    }\n",
              "\n",
              "    .colab-df-convert:hover {\n",
              "      background-color: #E2EBFA;\n",
              "      box-shadow: 0px 1px 2px rgba(60, 64, 67, 0.3), 0px 1px 3px 1px rgba(60, 64, 67, 0.15);\n",
              "      fill: #174EA6;\n",
              "    }\n",
              "\n",
              "    [theme=dark] .colab-df-convert {\n",
              "      background-color: #3B4455;\n",
              "      fill: #D2E3FC;\n",
              "    }\n",
              "\n",
              "    [theme=dark] .colab-df-convert:hover {\n",
              "      background-color: #434B5C;\n",
              "      box-shadow: 0px 1px 3px 1px rgba(0, 0, 0, 0.15);\n",
              "      filter: drop-shadow(0px 1px 2px rgba(0, 0, 0, 0.3));\n",
              "      fill: #FFFFFF;\n",
              "    }\n",
              "  </style>\n",
              "\n",
              "      <script>\n",
              "        const buttonEl =\n",
              "          document.querySelector('#df-1b05d28c-3735-48e7-9240-551ca82d43d5 button.colab-df-convert');\n",
              "        buttonEl.style.display =\n",
              "          google.colab.kernel.accessAllowed ? 'block' : 'none';\n",
              "\n",
              "        async function convertToInteractive(key) {\n",
              "          const element = document.querySelector('#df-1b05d28c-3735-48e7-9240-551ca82d43d5');\n",
              "          const dataTable =\n",
              "            await google.colab.kernel.invokeFunction('convertToInteractive',\n",
              "                                                     [key], {});\n",
              "          if (!dataTable) return;\n",
              "\n",
              "          const docLinkHtml = 'Like what you see? Visit the ' +\n",
              "            '<a target=\"_blank\" href=https://colab.research.google.com/notebooks/data_table.ipynb>data table notebook</a>'\n",
              "            + ' to learn more about interactive tables.';\n",
              "          element.innerHTML = '';\n",
              "          dataTable['output_type'] = 'display_data';\n",
              "          await google.colab.output.renderOutput(dataTable, element);\n",
              "          const docLink = document.createElement('div');\n",
              "          docLink.innerHTML = docLinkHtml;\n",
              "          element.appendChild(docLink);\n",
              "        }\n",
              "      </script>\n",
              "    </div>\n",
              "  </div>\n",
              "  "
            ]
          },
          "metadata": {},
          "execution_count": 5
        }
      ]
    },
    {
      "cell_type": "code",
      "source": [
        "from fbprophet import Prophet"
      ],
      "metadata": {
        "id": "VMR_GzqUi0ty"
      },
      "execution_count": 6,
      "outputs": []
    },
    {
      "cell_type": "code",
      "source": [
        "model = Prophet()\n",
        "model.fit(data)"
      ],
      "metadata": {
        "colab": {
          "base_uri": "https://localhost:8080/"
        },
        "id": "Y0djDjp3i0y6",
        "outputId": "72ddffb3-0915-4e2e-aec6-8f6cbc56d4de"
      },
      "execution_count": 7,
      "outputs": [
        {
          "output_type": "stream",
          "name": "stderr",
          "text": [
            "INFO:fbprophet:Disabling yearly seasonality. Run prophet with yearly_seasonality=True to override this.\n",
            "INFO:fbprophet:Disabling weekly seasonality. Run prophet with weekly_seasonality=True to override this.\n"
          ]
        },
        {
          "output_type": "execute_result",
          "data": {
            "text/plain": [
              "<fbprophet.forecaster.Prophet at 0x7f0ebf9fb8d0>"
            ]
          },
          "metadata": {},
          "execution_count": 7
        }
      ]
    },
    {
      "cell_type": "code",
      "source": [
        "future = model.make_future_dataframe(periods=48,freq='H')\n",
        "forecast = model.predict(future)"
      ],
      "metadata": {
        "id": "GglgTUq1jD9C"
      },
      "execution_count": 8,
      "outputs": []
    },
    {
      "cell_type": "code",
      "source": [
        "fig1 = model.plot(forecast)"
      ],
      "metadata": {
        "colab": {
          "base_uri": "https://localhost:8080/",
          "height": 441
        },
        "id": "puSyE7nyjD_Y",
        "outputId": "e001960e-689e-4b30-8e6d-a7962cd2c2a7"
      },
      "execution_count": 9,
      "outputs": [
        {
          "output_type": "display_data",
          "data": {
            "text/plain": [
              "<Figure size 720x432 with 1 Axes>"
            ],
            "image/png": "[encoded data removed]"
          },
          "metadata": {}
        }
      ]
    },
    {
      "cell_type": "code",
      "source": [
        "fig2 = model.plot_components(forecast)"
      ],
      "metadata": {
        "colab": {
          "base_uri": "https://localhost:8080/",
          "height": 441
        },
        "id": "GFcdYfvbjvMy",
        "outputId": "0b94f86b-5526-4723-d996-a4ec28c0e111"
      },
      "execution_count": 10,
      "outputs": [
        {
          "output_type": "display_data",
          "data": {
            "text/plain": [
              "<Figure size 648x432 with 2 Axes>"
            ],
            "image/png": "[encoded data removed]"
          },
          "metadata": {}
        }
      ]
    }
  ]
}